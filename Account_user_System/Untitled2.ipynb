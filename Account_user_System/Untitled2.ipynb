{
 "cells": [
  {
   "cell_type": "code",
   "execution_count": 108,
   "id": "153b25b8",
   "metadata": {},
   "outputs": [],
   "source": [
    "import mysql.connector\n",
    "import pandas as pd"
   ]
  },
  {
   "cell_type": "code",
   "execution_count": 104,
   "id": "f3cffb22",
   "metadata": {},
   "outputs": [],
   "source": [
    "class users:\n",
    "    cnxn = mysql.connector.connect(host='localhost', password='root', user='root', database = \"testdb\")\n",
    "    def add_users():\n",
    "        name = input(\"enter your name :\")\n",
    "        add = input(\"enter your current address :\" )\n",
    "        phone = input(\"enter your phone number :\")\n",
    "        crs = cnxn.cursor()\n",
    "        crs.execute(f\"call add_user('{name}', '{add}', '{phone}')\")\n",
    "        cnxn.commit()\n",
    "        pas = crs.execute(\"select password from account_user where user_id = (select max(user_id) from account_user)\")\n",
    "        password = pas.fetchone()[0]\n",
    "        return f\" user with the name {name} is created with the password {password}\"\n",
    "    \n",
    "\n",
    "    def users_info():\n",
    "        usercode = int(input(\"enter your usercode here :\"))\n",
    "        crs = cnxn.cursor()\n",
    "        qry = f'''select a.user_id, name, address, phone, balance from account_user as a join account_transactions as t\n",
    "        on a.user_id = t.user_id where a.user_id = {usercode} order by Date_time desc limit 1'''\n",
    "        df = pd.read_sql_query(qry, con = cnxn)\n",
    "        return f\"Name of the user is {df['name'][0]} and belongs to {df['address'][0]} having phone number {df['phone'][0]} and the current balance is {df['balance'][0]}\"\n",
    "    \n",
    "    def change_add():\n",
    "        qry = \"select * from account_user\"\n",
    "        df = pd.read_sql_query(qry, con = cnxn)\n",
    "        usercode = int(input(\"enter your usercode : \"))\n",
    "        password =  df[df['user_id'] == usercode]['password'][0]\n",
    "        pas = input(\"enter your password :\")\n",
    "        \n",
    "        if password == pas:\n",
    "            add = input(\"enter your new address :\")\n",
    "            crs = cnxn.cursor()\n",
    "            crs.execute(f\"call update_address('{add}','{usercode}')\")\n",
    "            cnxn.commit()\n",
    "            return f\" user's address has been changed with the new address {add} with the code {usercode}\"\n",
    "        else:\n",
    "            return \"please enter a valid password\"\n",
    "        \n",
    "    def change_phone():\n",
    "        qry = \"select * from account_user\"\n",
    "        df = pd.read_sql_query(qry, con = cnxn)\n",
    "        usercode = int(input(\"enter your usercode : \"))\n",
    "        password =  df[df['user_id'] == usercode]['password'][0]\n",
    "        pas = input(\"enter your password :\")\n",
    "        \n",
    "        if password == pas:\n",
    "            phone = input(\"enter your new phone number :\")\n",
    "            crs = cnxn.cursor()\n",
    "            crs.execute(f\"call update_phone('{phone}','{usercode}')\")\n",
    "            cnxn.commit()\n",
    "            return f\" user's Phone number has been changed with the new phone number {phone} with the code {usercode}\"\n",
    "        else:\n",
    "            return \"please enter a valid password\"\n",
    "        \n",
    "    \n",
    "    def change_name():\n",
    "        qry = \"select * from account_user\"\n",
    "        df = pd.read_sql_query(qry, con = cnxn)\n",
    "        usercode = int(input(\"enter your usercode : \"))\n",
    "        password =  df[df['user_id'] == usercode]['password'][0]\n",
    "        pas = input(\"enter your password :\")\n",
    "        \n",
    "        if password == pas:\n",
    "            name = input(\"enter your new name :\")\n",
    "            crs = cnxn.cursor()\n",
    "            crs.execute(f\"call update_name('{name}','{usercode}')\")\n",
    "            cnxn.commit()\n",
    "            return f\" user's name has been changed with the new name {name} with the code {usercode}\"\n",
    "        else:\n",
    "            return \"please enter a valid password\"   \n",
    "    "
   ]
  },
  {
   "cell_type": "code",
   "execution_count": 105,
   "id": "0af4dad6",
   "metadata": {},
   "outputs": [
    {
     "name": "stderr",
     "output_type": "stream",
     "text": [
      "C:\\Users\\Deepak Verma\\AppData\\Local\\Temp\\ipykernel_9776\\718760804.py:18: UserWarning: pandas only supports SQLAlchemy connectable (engine/connection) or database string URI or sqlite3 DBAPI2 connection. Other DBAPI2 objects are not tested. Please consider using SQLAlchemy.\n",
      "  df = pd.read_sql_query(qry, con = cnxn)\n"
     ]
    },
    {
     "data": {
      "text/plain": [
       "'Name of the user is shashank and belongs to nhi pata having phone number 4561237895 and the current balance is 800'"
      ]
     },
     "execution_count": 105,
     "metadata": {},
     "output_type": "execute_result"
    }
   ],
   "source": [
    "users.users_info(1)"
   ]
  },
  {
   "cell_type": "code",
   "execution_count": 100,
   "id": "4b88d0a3",
   "metadata": {},
   "outputs": [
    {
     "name": "stderr",
     "output_type": "stream",
     "text": [
      "C:\\Users\\Deepak Verma\\AppData\\Local\\Temp\\ipykernel_9776\\1909363565.py:23: UserWarning: pandas only supports SQLAlchemy connectable (engine/connection) or database string URI or sqlite3 DBAPI2 connection. Other DBAPI2 objects are not tested. Please consider using SQLAlchemy.\n",
      "  df = pd.read_sql_query(qry, con = cnxn)\n"
     ]
    },
    {
     "name": "stdout",
     "output_type": "stream",
     "text": [
      "enter your usercode : 1\n",
      "enter your password :d7f8ed3261\n",
      "enter your new addressnhi pata\n"
     ]
    },
    {
     "data": {
      "text/plain": [
       "\" user's address has been changed with the new address nhi pata with the code 1\""
      ]
     },
     "execution_count": 100,
     "metadata": {},
     "output_type": "execute_result"
    }
   ],
   "source": [
    "users.change_add()"
   ]
  },
  {
   "cell_type": "code",
   "execution_count": 103,
   "id": "71f20d7e",
   "metadata": {},
   "outputs": [
    {
     "name": "stderr",
     "output_type": "stream",
     "text": [
      "C:\\Users\\Deepak Verma\\AppData\\Local\\Temp\\ipykernel_9776\\2688968915.py:56: UserWarning: pandas only supports SQLAlchemy connectable (engine/connection) or database string URI or sqlite3 DBAPI2 connection. Other DBAPI2 objects are not tested. Please consider using SQLAlchemy.\n",
      "  df = pd.read_sql_query(qry, con = cnxn)\n"
     ]
    },
    {
     "name": "stdout",
     "output_type": "stream",
     "text": [
      "enter your usercode : 1\n",
      "enter your password :d7f8ed3261\n",
      "enter your new addressshashank\n"
     ]
    },
    {
     "data": {
      "text/plain": [
       "\" user's name has been changed with the new name shashank with the code 1\""
      ]
     },
     "execution_count": 103,
     "metadata": {},
     "output_type": "execute_result"
    }
   ],
   "source": [
    "users.change_name()"
   ]
  },
  {
   "cell_type": "code",
   "execution_count": 107,
   "id": "0326f483",
   "metadata": {},
   "outputs": [
    {
     "name": "stderr",
     "output_type": "stream",
     "text": [
      "C:\\Users\\Deepak Verma\\AppData\\Local\\Temp\\ipykernel_9776\\718760804.py:39: UserWarning: pandas only supports SQLAlchemy connectable (engine/connection) or database string URI or sqlite3 DBAPI2 connection. Other DBAPI2 objects are not tested. Please consider using SQLAlchemy.\n",
      "  df = pd.read_sql_query(qry, con = cnxn)\n"
     ]
    },
    {
     "name": "stdout",
     "output_type": "stream",
     "text": [
      "enter your usercode : 1\n",
      "enter your password :d7f8ed3261\n",
      "enter your new phone number :7418529635\n"
     ]
    },
    {
     "data": {
      "text/plain": [
       "\" user's Phone number has been changed with the new phone number 7418529635 with the code 1\""
      ]
     },
     "execution_count": 107,
     "metadata": {},
     "output_type": "execute_result"
    }
   ],
   "source": [
    "users.change_phone()"
   ]
  },
  {
   "cell_type": "code",
   "execution_count": 120,
   "id": "4e1c486b",
   "metadata": {},
   "outputs": [],
   "source": [
    "class balance:\n",
    "    cnxn = mysql.connector.connect(host='localhost', password='root', user='root', database = \"testdb\")\n",
    "    def check_balance():\n",
    "        usercode = int(input(\"enter your usercode here : \"))\n",
    "        crs = cnxn.cursor()\n",
    "        qry = f'''select balance from account_user as a join account_transactions as t on a.user_id = t.user_id\n",
    "        where a.user_id = {usercode} order by Date_time desc limit 1'''\n",
    "        df = pd.read_sql_query(qry, con = cnxn)\n",
    "        return f\"your current balance is {df['balance'][0]}\"\n",
    "    \n",
    "    def deposite():\n",
    "        crs = cnxn.cursor()\n",
    "        usercode = int(input(\"enter your usercode here :\"))\n",
    "        amount = int(input(\"enter the deposite amount :\"))\n",
    "        crs.execute(f\"call deposite({amount}, {usercode});\")\n",
    "        cnxn.commit()\n",
    "        qry = f'''select name,balance from account_user as a join account_transactions as t on a.user_id = t.user_id\n",
    "        where a.user_id = {usercode} order by Date_time desc limit 1'''\n",
    "        df = pd.read_sql_query(qry, con = cnxn)\n",
    "        return f\"user with the name {df['name'][0]} credit amount of rupee {amount} and the current balance is {df['balance'][0]}\"\n",
    "       \n",
    "    def withdraw():\n",
    "        crs = cnxn.cursor()\n",
    "        usercode = int(input(\"enter your usercode here :\"))\n",
    "        pas = input(\"enter your password here :\")\n",
    "        qry = f'''select a.user_id,name,balance, password from account_user as a join account_transactions as t on a.user_id = t.user_id\n",
    "                where a.user_id = {usercode} order by Date_time desc limit 1'''\n",
    "        df = pd.read_sql_query(qry, con = cnxn)\n",
    "        password =  df[df['user_id'] == usercode]['password'][0]\n",
    "        if pas == password:\n",
    "            amount = int(input(\"enter the amount :\"))\n",
    "            if amount <= df[df['user_id'] == usercode]['balance'][0]:\n",
    "                crs.execute(f\"call withdraw({amount}, {usercode});\")\n",
    "                cnxn.commit()\n",
    "                return f\"user with the name {df['name'][0]} has debited amount of rupee {amount} and the current balance is {df['balance'][0]-amount}\"\n",
    "            else:\n",
    "                return \"not having sufficient balance into your account\"\n",
    "        else:\n",
    "            return \"please enter a valid password\""
   ]
  },
  {
   "cell_type": "code",
   "execution_count": 112,
   "id": "28c2a859",
   "metadata": {},
   "outputs": [
    {
     "name": "stdout",
     "output_type": "stream",
     "text": [
      "enter your usercode here : 1\n"
     ]
    },
    {
     "name": "stderr",
     "output_type": "stream",
     "text": [
      "C:\\Users\\Deepak Verma\\AppData\\Local\\Temp\\ipykernel_9776\\1868862158.py:8: UserWarning: pandas only supports SQLAlchemy connectable (engine/connection) or database string URI or sqlite3 DBAPI2 connection. Other DBAPI2 objects are not tested. Please consider using SQLAlchemy.\n",
      "  df = pd.read_sql_query(qry, con = cnxn)\n"
     ]
    },
    {
     "data": {
      "text/plain": [
       "'your current balance is 800'"
      ]
     },
     "execution_count": 112,
     "metadata": {},
     "output_type": "execute_result"
    }
   ],
   "source": [
    "balance.check_balance()"
   ]
  },
  {
   "cell_type": "code",
   "execution_count": 115,
   "id": "80459f1b",
   "metadata": {},
   "outputs": [
    {
     "name": "stdout",
     "output_type": "stream",
     "text": [
      "enter your usercode here :1\n",
      "enter the deposite amount :500\n"
     ]
    },
    {
     "name": "stderr",
     "output_type": "stream",
     "text": [
      "C:\\Users\\Deepak Verma\\AppData\\Local\\Temp\\ipykernel_9776\\420014880.py:19: UserWarning: pandas only supports SQLAlchemy connectable (engine/connection) or database string URI or sqlite3 DBAPI2 connection. Other DBAPI2 objects are not tested. Please consider using SQLAlchemy.\n",
      "  df = pd.read_sql_query(qry, con = cnxn)\n"
     ]
    },
    {
     "data": {
      "text/plain": [
       "'user with the name shashank credit amount of rupee 500 and the current balance is 1300'"
      ]
     },
     "execution_count": 115,
     "metadata": {},
     "output_type": "execute_result"
    }
   ],
   "source": [
    "balance.deposite()"
   ]
  },
  {
   "cell_type": "code",
   "execution_count": 121,
   "id": "54a787ec",
   "metadata": {},
   "outputs": [
    {
     "name": "stdout",
     "output_type": "stream",
     "text": [
      "enter your usercode here :1\n",
      "enter your password here :d7f8ed3261\n"
     ]
    },
    {
     "name": "stderr",
     "output_type": "stream",
     "text": [
      "C:\\Users\\Deepak Verma\\AppData\\Local\\Temp\\ipykernel_9776\\3615012177.py:28: UserWarning: pandas only supports SQLAlchemy connectable (engine/connection) or database string URI or sqlite3 DBAPI2 connection. Other DBAPI2 objects are not tested. Please consider using SQLAlchemy.\n",
      "  df = pd.read_sql_query(qry, con = cnxn)\n"
     ]
    },
    {
     "name": "stdout",
     "output_type": "stream",
     "text": [
      "enter the amount :200\n"
     ]
    },
    {
     "data": {
      "text/plain": [
       "'user with the name shashank has debited amount of rupee 200 and the current balance is 1100'"
      ]
     },
     "execution_count": 121,
     "metadata": {},
     "output_type": "execute_result"
    }
   ],
   "source": [
    "balance.withdraw()"
   ]
  },
  {
   "cell_type": "code",
   "execution_count": null,
   "id": "11572fac",
   "metadata": {},
   "outputs": [],
   "source": []
  }
 ],
 "metadata": {
  "kernelspec": {
   "display_name": "Python 3 (ipykernel)",
   "language": "python",
   "name": "python3"
  },
  "language_info": {
   "codemirror_mode": {
    "name": "ipython",
    "version": 3
   },
   "file_extension": ".py",
   "mimetype": "text/x-python",
   "name": "python",
   "nbconvert_exporter": "python",
   "pygments_lexer": "ipython3",
   "version": "3.10.9"
  }
 },
 "nbformat": 4,
 "nbformat_minor": 5
}
